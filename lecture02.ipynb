{
 "cells": [
  {
   "cell_type": "markdown",
   "metadata": {},
   "source": [
    "# Analysis of Physical Oceanographic Data - SIO 221A\n",
    "### Python version of [Sarah Gille's](http://pordlabs.ucsd.edu/sgille/sioc221a/index.html) notes by:\n",
    "#### Bia Villas Bôas (avillasboas@ucsd.edu) & Gui Castelão (castelao@ucsd.edu)"
   ]
  },
  {
   "cell_type": "markdown",
   "metadata": {},
   "source": [
    "## Lecture 2:  Probing the power of probability density functions\n",
    "\n",
    "### **Recap**\n",
    "\n",
    "Last time we talked about some basic statistical measures.  If we\n",
    "have a collection of data (*random variables*), we can compute\n",
    "their *mean*, *variance*, *standard deviation*, *median*,\n",
    "and we can examine the *probability density function* of\n",
    "the data.  We also made a distinction between the *expectation value*\n",
    "(the value we'd expect if we had an infinite number of perfectly sampled\n",
    "observations) and the observed mean.  Similarly, we can distinguish\n",
    "between an empirical probability density function (what we actually\n",
    "observe) and the idea probability density function that we observe.\n",
    "\n",
    "### **An example**\n",
    "\n",
    "Melissa Carter, the Shore Stations Program manager, is in charge of the\n",
    "pier data.  Next week she'll tell us in detail about the data collection\n",
    "system.  The system includes automated sensors that suffer from\n",
    "biofouling and manual time series that are under sampled.  Melissa\n",
    "asks, \"What new information is gained with the continuous 4min time series, and is there a need to continue to collect the manual once per day measurements?\"\n",
    "\n",
    "We could start to answer these questions by using the tools we reviewed\n",
    "in the first lecture.  Are the means the same?  Are the variances the same?\n",
    "But that will give us an incomplete picture for several reasons:\n",
    "\n",
    "1. As we noted last time, data sets can perversely have the same mean and\n",
    "standard deviation, but have pdfs that look nothing alike.\n",
    "2. When we deal with real data, nothing is ever identical, so we'll need\n",
    "to know how big a difference is acceptable.\n",
    "\n",
    "The pdf is going to help us work through these issues.\n",
    "What can we do with a pdf?  Let's cover three topics:\n",
    "\n",
    "1. How do we define a pdf?\n",
    "2. How do we use the pdf to think about confidence limits?  Are two estimates different?\n",
    "3. How can we tell if two pdfs are different?\n",
    "\n",
    "The formal definition of a probability density function is based on\n",
    "the first derivative of the probability:\n",
    "\n",
    "$$\\begin{equation}\n",
    "p(x) = \\lim_{\\Delta x \\to 0}\\left[\\frac{\\textrm{Prob}[x < x(k) \\le x+\\Delta x]}{\\Delta x}\\right] \\hspace{3cm} (1)\n",
    "\\end{equation}$$\n",
    "\n",
    "where $x(k)$ is a random variable.  This definition means that the integral of\n",
    "the probability density function gives us the probability, as we noted last\n",
    "time:\n",
    "\n",
    "$$\\begin{equation}\n",
    "\\int_{-\\infty}^{\\infty} p(x)\\, dx = 1\\hspace{3cm} (2)\n",
    "\\end{equation}$$\n",
    "\n",
    "One of the clever aspects of the pdf is that we can use it to determine\n",
    "an expected value:\n",
    "\n",
    "$$\\begin{equation}\n",
    "E(x(k)) = \\int_{-\\infty}^\\infty xp(x)\\, dx = \\mu_x.\\hspace{3cm} (3)\n",
    "\\end{equation}$$\n",
    "\n",
    "Why does this work?  In essence, I reorder all the values in my data set and\n",
    "ask what's the probability of finding $x$ in bin 1, what's the probability\n",
    "of finding $x$ in bin 2, etc?  Or in other words, what fraction of my total\n",
    "record is in bin 1, what fraction is in bin 2, etc?  And summing this way,\n",
    "I'll find the mean.\n",
    "\n",
    "We can also use this for $x^2$ or for $(x-\\mu_x)^2$.\n",
    "\n",
    "$$\\begin{equation}\n",
    "E((x(k)-\\mu_k)^2) = \\int_{-\\infty}^\\infty (x-\\mu_x)^2 p(x)\\, dx = \\sigma_x^2. \\hspace{3cm} (4)\n",
    "\\end{equation}$$\n",
    "\n",
    "\n",
    "Let's start by making an empirical pdf.  Last time we talked about\n",
    "temperature on the pier, so now, let's take a look at pressure.  We could\n",
    "plot a histogram of the data using the hist function, but that wouldn't\n",
    "give us a pdf.  For the pdf we need to be properly normalized.  We can\n",
    "still do this using functions from the `matplotlib` and `numpy` libraries:"
   ]
  },
  {
   "cell_type": "code",
   "execution_count": 1,
   "metadata": {},
   "outputs": [],
   "source": [
    "%matplotlib inline\n",
    "\n",
    "import numpy as np\n",
    "import xarray as xr\n",
    "import matplotlib.pyplot as plt"
   ]
  },
  {
   "cell_type": "code",
   "execution_count": 2,
   "metadata": {},
   "outputs": [
    {
     "ename": "OSError",
     "evalue": "[Errno -68] NetCDF: I/O failure: b'http://sccoos.org/thredds/dodsC/autoss/scripps_pier-2019.nc'",
     "output_type": "error",
     "traceback": [
      "\u001b[0;31m---------------------------------------------------------------------------\u001b[0m",
      "\u001b[0;31mKeyError\u001b[0m                                  Traceback (most recent call last)",
      "\u001b[0;32m~/anaconda3/lib/python3.7/site-packages/xarray/backends/file_manager.py\u001b[0m in \u001b[0;36macquire\u001b[0;34m(self, needs_lock)\u001b[0m\n\u001b[1;32m    166\u001b[0m             \u001b[0;32mtry\u001b[0m\u001b[0;34m:\u001b[0m\u001b[0;34m\u001b[0m\u001b[0;34m\u001b[0m\u001b[0m\n\u001b[0;32m--> 167\u001b[0;31m                 \u001b[0mfile\u001b[0m \u001b[0;34m=\u001b[0m \u001b[0mself\u001b[0m\u001b[0;34m.\u001b[0m\u001b[0m_cache\u001b[0m\u001b[0;34m[\u001b[0m\u001b[0mself\u001b[0m\u001b[0;34m.\u001b[0m\u001b[0m_key\u001b[0m\u001b[0;34m]\u001b[0m\u001b[0;34m\u001b[0m\u001b[0;34m\u001b[0m\u001b[0m\n\u001b[0m\u001b[1;32m    168\u001b[0m             \u001b[0;32mexcept\u001b[0m \u001b[0mKeyError\u001b[0m\u001b[0;34m:\u001b[0m\u001b[0;34m\u001b[0m\u001b[0;34m\u001b[0m\u001b[0m\n",
      "\u001b[0;32m~/anaconda3/lib/python3.7/site-packages/xarray/backends/lru_cache.py\u001b[0m in \u001b[0;36m__getitem__\u001b[0;34m(self, key)\u001b[0m\n\u001b[1;32m     41\u001b[0m         \u001b[0;32mwith\u001b[0m \u001b[0mself\u001b[0m\u001b[0;34m.\u001b[0m\u001b[0m_lock\u001b[0m\u001b[0;34m:\u001b[0m\u001b[0;34m\u001b[0m\u001b[0;34m\u001b[0m\u001b[0m\n\u001b[0;32m---> 42\u001b[0;31m             \u001b[0mvalue\u001b[0m \u001b[0;34m=\u001b[0m \u001b[0mself\u001b[0m\u001b[0;34m.\u001b[0m\u001b[0m_cache\u001b[0m\u001b[0;34m[\u001b[0m\u001b[0mkey\u001b[0m\u001b[0;34m]\u001b[0m\u001b[0;34m\u001b[0m\u001b[0;34m\u001b[0m\u001b[0m\n\u001b[0m\u001b[1;32m     43\u001b[0m             \u001b[0mself\u001b[0m\u001b[0;34m.\u001b[0m\u001b[0m_cache\u001b[0m\u001b[0;34m.\u001b[0m\u001b[0mmove_to_end\u001b[0m\u001b[0;34m(\u001b[0m\u001b[0mkey\u001b[0m\u001b[0;34m)\u001b[0m\u001b[0;34m\u001b[0m\u001b[0;34m\u001b[0m\u001b[0m\n",
      "\u001b[0;31mKeyError\u001b[0m: [<function _open_netcdf4_group at 0x322a12e18>, ('http://sccoos.org/thredds/dodsC/autoss/scripps_pier-2019.nc', <SerializableLock: 8c6ba93b-f07f-40f5-a598-6ad919b3cf14>), 'r', (('clobber', True), ('diskless', False), ('format', 'NETCDF4'), ('group', None), ('persist', False))]",
      "\nDuring handling of the above exception, another exception occurred:\n",
      "\u001b[0;31mOSError\u001b[0m                                   Traceback (most recent call last)",
      "\u001b[0;32m<ipython-input-2-f17a91d583ce>\u001b[0m in \u001b[0;36m<module>\u001b[0;34m\u001b[0m\n\u001b[1;32m      1\u001b[0m \u001b[0msccoos_thredds\u001b[0m \u001b[0;34m=\u001b[0m \u001b[0;34m'http://sccoos.org/thredds/dodsC/autoss/scripps_pier-2019.nc'\u001b[0m\u001b[0;34m\u001b[0m\u001b[0;34m\u001b[0m\u001b[0m\n\u001b[0;32m----> 2\u001b[0;31m \u001b[0mds\u001b[0m \u001b[0;34m=\u001b[0m \u001b[0mxr\u001b[0m\u001b[0;34m.\u001b[0m\u001b[0mopen_dataset\u001b[0m\u001b[0;34m(\u001b[0m\u001b[0msccoos_thredds\u001b[0m\u001b[0;34m)\u001b[0m\u001b[0;34m\u001b[0m\u001b[0;34m\u001b[0m\u001b[0m\n\u001b[0m",
      "\u001b[0;32m~/anaconda3/lib/python3.7/site-packages/xarray/backends/api.py\u001b[0m in \u001b[0;36mopen_dataset\u001b[0;34m(filename_or_obj, group, decode_cf, mask_and_scale, decode_times, autoclose, concat_characters, decode_coords, engine, chunks, lock, cache, drop_variables, backend_kwargs, use_cftime)\u001b[0m\n\u001b[1;32m    361\u001b[0m         \u001b[0;32mif\u001b[0m \u001b[0mengine\u001b[0m \u001b[0;34m==\u001b[0m \u001b[0;34m'netcdf4'\u001b[0m\u001b[0;34m:\u001b[0m\u001b[0;34m\u001b[0m\u001b[0;34m\u001b[0m\u001b[0m\n\u001b[1;32m    362\u001b[0m             store = backends.NetCDF4DataStore.open(\n\u001b[0;32m--> 363\u001b[0;31m                 filename_or_obj, group=group, lock=lock, **backend_kwargs)\n\u001b[0m\u001b[1;32m    364\u001b[0m         \u001b[0;32melif\u001b[0m \u001b[0mengine\u001b[0m \u001b[0;34m==\u001b[0m \u001b[0;34m'scipy'\u001b[0m\u001b[0;34m:\u001b[0m\u001b[0;34m\u001b[0m\u001b[0;34m\u001b[0m\u001b[0m\n\u001b[1;32m    365\u001b[0m             \u001b[0mstore\u001b[0m \u001b[0;34m=\u001b[0m \u001b[0mbackends\u001b[0m\u001b[0;34m.\u001b[0m\u001b[0mScipyDataStore\u001b[0m\u001b[0;34m(\u001b[0m\u001b[0mfilename_or_obj\u001b[0m\u001b[0;34m,\u001b[0m \u001b[0;34m**\u001b[0m\u001b[0mbackend_kwargs\u001b[0m\u001b[0;34m)\u001b[0m\u001b[0;34m\u001b[0m\u001b[0;34m\u001b[0m\u001b[0m\n",
      "\u001b[0;32m~/anaconda3/lib/python3.7/site-packages/xarray/backends/netCDF4_.py\u001b[0m in \u001b[0;36mopen\u001b[0;34m(cls, filename, mode, format, group, clobber, diskless, persist, lock, lock_maker, autoclose)\u001b[0m\n\u001b[1;32m    350\u001b[0m             kwargs=dict(group=group, clobber=clobber, diskless=diskless,\n\u001b[1;32m    351\u001b[0m                         persist=persist, format=format))\n\u001b[0;32m--> 352\u001b[0;31m         \u001b[0;32mreturn\u001b[0m \u001b[0mcls\u001b[0m\u001b[0;34m(\u001b[0m\u001b[0mmanager\u001b[0m\u001b[0;34m,\u001b[0m \u001b[0mlock\u001b[0m\u001b[0;34m=\u001b[0m\u001b[0mlock\u001b[0m\u001b[0;34m,\u001b[0m \u001b[0mautoclose\u001b[0m\u001b[0;34m=\u001b[0m\u001b[0mautoclose\u001b[0m\u001b[0;34m)\u001b[0m\u001b[0;34m\u001b[0m\u001b[0;34m\u001b[0m\u001b[0m\n\u001b[0m\u001b[1;32m    353\u001b[0m \u001b[0;34m\u001b[0m\u001b[0m\n\u001b[1;32m    354\u001b[0m     \u001b[0;34m@\u001b[0m\u001b[0mproperty\u001b[0m\u001b[0;34m\u001b[0m\u001b[0;34m\u001b[0m\u001b[0m\n",
      "\u001b[0;32m~/anaconda3/lib/python3.7/site-packages/xarray/backends/netCDF4_.py\u001b[0m in \u001b[0;36m__init__\u001b[0;34m(self, manager, lock, autoclose)\u001b[0m\n\u001b[1;32m    309\u001b[0m \u001b[0;34m\u001b[0m\u001b[0m\n\u001b[1;32m    310\u001b[0m         \u001b[0mself\u001b[0m\u001b[0;34m.\u001b[0m\u001b[0m_manager\u001b[0m \u001b[0;34m=\u001b[0m \u001b[0mmanager\u001b[0m\u001b[0;34m\u001b[0m\u001b[0;34m\u001b[0m\u001b[0m\n\u001b[0;32m--> 311\u001b[0;31m         \u001b[0mself\u001b[0m\u001b[0;34m.\u001b[0m\u001b[0mformat\u001b[0m \u001b[0;34m=\u001b[0m \u001b[0mself\u001b[0m\u001b[0;34m.\u001b[0m\u001b[0mds\u001b[0m\u001b[0;34m.\u001b[0m\u001b[0mdata_model\u001b[0m\u001b[0;34m\u001b[0m\u001b[0;34m\u001b[0m\u001b[0m\n\u001b[0m\u001b[1;32m    312\u001b[0m         \u001b[0mself\u001b[0m\u001b[0;34m.\u001b[0m\u001b[0m_filename\u001b[0m \u001b[0;34m=\u001b[0m \u001b[0mself\u001b[0m\u001b[0;34m.\u001b[0m\u001b[0mds\u001b[0m\u001b[0;34m.\u001b[0m\u001b[0mfilepath\u001b[0m\u001b[0;34m(\u001b[0m\u001b[0;34m)\u001b[0m\u001b[0;34m\u001b[0m\u001b[0;34m\u001b[0m\u001b[0m\n\u001b[1;32m    313\u001b[0m         \u001b[0mself\u001b[0m\u001b[0;34m.\u001b[0m\u001b[0mis_remote\u001b[0m \u001b[0;34m=\u001b[0m \u001b[0mis_remote_uri\u001b[0m\u001b[0;34m(\u001b[0m\u001b[0mself\u001b[0m\u001b[0;34m.\u001b[0m\u001b[0m_filename\u001b[0m\u001b[0;34m)\u001b[0m\u001b[0;34m\u001b[0m\u001b[0;34m\u001b[0m\u001b[0m\n",
      "\u001b[0;32m~/anaconda3/lib/python3.7/site-packages/xarray/backends/netCDF4_.py\u001b[0m in \u001b[0;36mds\u001b[0;34m(self)\u001b[0m\n\u001b[1;32m    354\u001b[0m     \u001b[0;34m@\u001b[0m\u001b[0mproperty\u001b[0m\u001b[0;34m\u001b[0m\u001b[0;34m\u001b[0m\u001b[0m\n\u001b[1;32m    355\u001b[0m     \u001b[0;32mdef\u001b[0m \u001b[0mds\u001b[0m\u001b[0;34m(\u001b[0m\u001b[0mself\u001b[0m\u001b[0;34m)\u001b[0m\u001b[0;34m:\u001b[0m\u001b[0;34m\u001b[0m\u001b[0;34m\u001b[0m\u001b[0m\n\u001b[0;32m--> 356\u001b[0;31m         \u001b[0;32mreturn\u001b[0m \u001b[0mself\u001b[0m\u001b[0;34m.\u001b[0m\u001b[0m_manager\u001b[0m\u001b[0;34m.\u001b[0m\u001b[0macquire\u001b[0m\u001b[0;34m(\u001b[0m\u001b[0;34m)\u001b[0m\u001b[0;34m.\u001b[0m\u001b[0mvalue\u001b[0m\u001b[0;34m\u001b[0m\u001b[0;34m\u001b[0m\u001b[0m\n\u001b[0m\u001b[1;32m    357\u001b[0m \u001b[0;34m\u001b[0m\u001b[0m\n\u001b[1;32m    358\u001b[0m     \u001b[0;32mdef\u001b[0m \u001b[0mopen_store_variable\u001b[0m\u001b[0;34m(\u001b[0m\u001b[0mself\u001b[0m\u001b[0;34m,\u001b[0m \u001b[0mname\u001b[0m\u001b[0;34m,\u001b[0m \u001b[0mvar\u001b[0m\u001b[0;34m)\u001b[0m\u001b[0;34m:\u001b[0m\u001b[0;34m\u001b[0m\u001b[0;34m\u001b[0m\u001b[0m\n",
      "\u001b[0;32m~/anaconda3/lib/python3.7/site-packages/xarray/backends/file_manager.py\u001b[0m in \u001b[0;36macquire\u001b[0;34m(self, needs_lock)\u001b[0m\n\u001b[1;32m    171\u001b[0m                     \u001b[0mkwargs\u001b[0m \u001b[0;34m=\u001b[0m \u001b[0mkwargs\u001b[0m\u001b[0;34m.\u001b[0m\u001b[0mcopy\u001b[0m\u001b[0;34m(\u001b[0m\u001b[0;34m)\u001b[0m\u001b[0;34m\u001b[0m\u001b[0;34m\u001b[0m\u001b[0m\n\u001b[1;32m    172\u001b[0m                     \u001b[0mkwargs\u001b[0m\u001b[0;34m[\u001b[0m\u001b[0;34m'mode'\u001b[0m\u001b[0;34m]\u001b[0m \u001b[0;34m=\u001b[0m \u001b[0mself\u001b[0m\u001b[0;34m.\u001b[0m\u001b[0m_mode\u001b[0m\u001b[0;34m\u001b[0m\u001b[0;34m\u001b[0m\u001b[0m\n\u001b[0;32m--> 173\u001b[0;31m                 \u001b[0mfile\u001b[0m \u001b[0;34m=\u001b[0m \u001b[0mself\u001b[0m\u001b[0;34m.\u001b[0m\u001b[0m_opener\u001b[0m\u001b[0;34m(\u001b[0m\u001b[0;34m*\u001b[0m\u001b[0mself\u001b[0m\u001b[0;34m.\u001b[0m\u001b[0m_args\u001b[0m\u001b[0;34m,\u001b[0m \u001b[0;34m**\u001b[0m\u001b[0mkwargs\u001b[0m\u001b[0;34m)\u001b[0m\u001b[0;34m\u001b[0m\u001b[0;34m\u001b[0m\u001b[0m\n\u001b[0m\u001b[1;32m    174\u001b[0m                 \u001b[0;32mif\u001b[0m \u001b[0mself\u001b[0m\u001b[0;34m.\u001b[0m\u001b[0m_mode\u001b[0m \u001b[0;34m==\u001b[0m \u001b[0;34m'w'\u001b[0m\u001b[0;34m:\u001b[0m\u001b[0;34m\u001b[0m\u001b[0;34m\u001b[0m\u001b[0m\n\u001b[1;32m    175\u001b[0m                     \u001b[0;31m# ensure file doesn't get overriden when opened again\u001b[0m\u001b[0;34m\u001b[0m\u001b[0;34m\u001b[0m\u001b[0;34m\u001b[0m\u001b[0m\n",
      "\u001b[0;32m~/anaconda3/lib/python3.7/site-packages/xarray/backends/netCDF4_.py\u001b[0m in \u001b[0;36m_open_netcdf4_group\u001b[0;34m(filename, lock, mode, group, **kwargs)\u001b[0m\n\u001b[1;32m    242\u001b[0m     \u001b[0;32mimport\u001b[0m \u001b[0mnetCDF4\u001b[0m \u001b[0;32mas\u001b[0m \u001b[0mnc4\u001b[0m\u001b[0;34m\u001b[0m\u001b[0;34m\u001b[0m\u001b[0m\n\u001b[1;32m    243\u001b[0m \u001b[0;34m\u001b[0m\u001b[0m\n\u001b[0;32m--> 244\u001b[0;31m     \u001b[0mds\u001b[0m \u001b[0;34m=\u001b[0m \u001b[0mnc4\u001b[0m\u001b[0;34m.\u001b[0m\u001b[0mDataset\u001b[0m\u001b[0;34m(\u001b[0m\u001b[0mfilename\u001b[0m\u001b[0;34m,\u001b[0m \u001b[0mmode\u001b[0m\u001b[0;34m=\u001b[0m\u001b[0mmode\u001b[0m\u001b[0;34m,\u001b[0m \u001b[0;34m**\u001b[0m\u001b[0mkwargs\u001b[0m\u001b[0;34m)\u001b[0m\u001b[0;34m\u001b[0m\u001b[0;34m\u001b[0m\u001b[0m\n\u001b[0m\u001b[1;32m    245\u001b[0m \u001b[0;34m\u001b[0m\u001b[0m\n\u001b[1;32m    246\u001b[0m     \u001b[0;32mwith\u001b[0m \u001b[0mclose_on_error\u001b[0m\u001b[0;34m(\u001b[0m\u001b[0mds\u001b[0m\u001b[0;34m)\u001b[0m\u001b[0;34m:\u001b[0m\u001b[0;34m\u001b[0m\u001b[0;34m\u001b[0m\u001b[0m\n",
      "\u001b[0;32mnetCDF4/_netCDF4.pyx\u001b[0m in \u001b[0;36mnetCDF4._netCDF4.Dataset.__init__\u001b[0;34m()\u001b[0m\n",
      "\u001b[0;32mnetCDF4/_netCDF4.pyx\u001b[0m in \u001b[0;36mnetCDF4._netCDF4._ensure_nc_success\u001b[0;34m()\u001b[0m\n",
      "\u001b[0;31mOSError\u001b[0m: [Errno -68] NetCDF: I/O failure: b'http://sccoos.org/thredds/dodsC/autoss/scripps_pier-2019.nc'"
     ]
    }
   ],
   "source": [
    "sccoos_thredds = 'http://sccoos.org/thredds/dodsC/autoss/scripps_pier-2019.nc'\n",
    "ds = xr.open_dataset(sccoos_thredds)"
   ]
  },
  {
   "cell_type": "code",
   "execution_count": 3,
   "metadata": {},
   "outputs": [
    {
     "data": {
      "text/plain": [
       "KeysView(<xarray.Dataset>\n",
       "Dimensions:                     (time: 96803)\n",
       "Coordinates:\n",
       "  * time                        (time) object 2019-01-01 00:00:15 ... 2019-10-02 03:56:32\n",
       "    lat                         float32 ...\n",
       "    lon                         float32 ...\n",
       "    depth                       float32 ...\n",
       "Data variables:\n",
       "    temperature                 (time) float32 ...\n",
       "    conductivity                (time) float32 ...\n",
       "    pressure                    (time) float32 ...\n",
       "    salinity                    (time) float32 ...\n",
       "    chlorophyll_raw             (time) float32 ...\n",
       "    chlorophyll                 (time) float32 ...\n",
       "    temperature_flagPrimary     (time) float32 ...\n",
       "    temperature_flagSecondary   (time) float32 ...\n",
       "    conductivity_flagPrimary    (time) float32 ...\n",
       "    conductivity_flagSecondary  (time) float32 ...\n",
       "    pressure_flagPrimary        (time) float32 ...\n",
       "    pressure_flagSecondary      (time) float32 ...\n",
       "    salinity_flagPrimary        (time) float32 ...\n",
       "    salinity_flagSecondary      (time) float32 ...\n",
       "    chlorophyll_flagPrimary     (time) float32 ...\n",
       "    chlorophyll_flagSecondary   (time) float32 ...\n",
       "    sigmat                      (time) float32 ...\n",
       "    diagnosticVoltage           (time) float32 ...\n",
       "    currentDraw                 (time) float32 ...\n",
       "    aux1                        (time) float32 ...\n",
       "    aux3                        (time) float32 ...\n",
       "    aux4                        (time) float32 ...\n",
       "    instrument1                 |S64 ...\n",
       "    instrument2                 |S64 ...\n",
       "    platform1                   |S64 ...\n",
       "    station                     |S64 ...\n",
       "    crs                         float64 ...\n",
       "Attributes:\n",
       "    _NCProperties:                   version=1|netcdflibversion=4.4.1|hdf5lib...\n",
       "    comment:                         The Scripps Pier automated shore station...\n",
       "    platform_vocabulary:             GCMD Earth Science Keywords. Version 8.5\n",
       "    time_coverage_resolution:        PT1S\n",
       "    geospatial_vertical_max:         5\n",
       "    geospatial_bounds_crs:           EPSG:4326\n",
       "    geospatial_bounds_vertical_crs:  EPSG:5829\n",
       "    geospatial_lat_units:            degrees_north\n",
       "    publisher_institution:           Scripps Institution of Oceanography (SIO)\n",
       "    geospatial_lon_units:            degrees_east\n",
       "    references:                      http://sccoos.org/data/autoss/, http://s...\n",
       "    Metadata_Conventions:            Unidata Dataset Discovery v1.0\n",
       "    keywords:                        EARTH SCIENCE, OCEANS, OCEAN CHEMISTRY, ...\n",
       "    Conventions:                     CF-1.6, ACDD-1.3\n",
       "    publisher_name:                  Southern California Coastal Ocean Observ...\n",
       "    id:                              scripps_pier-2019\n",
       "    naming_authority:                sccoos.org\n",
       "    geospatial_lat_max:              32.867\n",
       "    acknowledgment:                  The Southern California Coastal Ocean Ob...\n",
       "    source:                          insitu observations\n",
       "    standard_name_vocabulary:        CF Standard Name Table (v28, 07 January ...\n",
       "    platform:                        In Situ Ocean-based Platforms > OCEAN PL...\n",
       "    program:                         Southern California Coastal Ocean Observ...\n",
       "    instrument:                      In Situ/Laboratory Instruments > Profile...\n",
       "    publisher_url:                   http://sccoos.org\n",
       "    creator_name:                    Southern California Coastal Ocean Observ...\n",
       "    processing_level:                QA/QC have been performed\n",
       "    featureType:                     timeSeries\n",
       "    publisher_email:                 info@sccoos.org\n",
       "    keywords_vocabulary:             Global Change Master Directory (GCMD) Ea...\n",
       "    creator_url:                     http://sccoos.org/\n",
       "    geospatial_lat_min:              32.867\n",
       "    geospatial_lat_resolution:       2.77E-4\n",
       "    metadata_link:                   http://sccoos.org/data/autoss/\n",
       "    creator_email:                   info@sccoos.org\n",
       "    geospatial_vertical_min:         5\n",
       "    date_created:                    2019-08-28T01:10:53Z\n",
       "    wmo_code:                        LJSC1\n",
       "    contributor_role:                station operation, station funding, data...\n",
       "    instrument_vocabulary:           GCMD Earth Science Keywords. Version 8.5\n",
       "    ncei_template_version:           NCEI_NetCDF_TimeSeries_Orthogonal_Templa...\n",
       "    institution:                     Scripps Institution of Oceanography, Uni...\n",
       "    geospatial_lon_max:              -117.257\n",
       "    geospatial_lon_min:              -117.257\n",
       "    geospatial_lon_resolution:       2.77E-4\n",
       "    contributor_name:                UCSD/SCCOOS, SCCOOS/IOOS/NOAA, SCCOOS\n",
       "    geospatial_vertical_resolution:  1\n",
       "    license:                         These data may be redistributed and used...\n",
       "    title:                           Automated Shore Stations: Scripps Pier\n",
       "    summary:                         Automated shore station with a suite of ...\n",
       "    project:                         Automated Shore Stations\n",
       "    cdm_data_type:                   Station\n",
       "    history:                         Created: 2019-08-28T01:10:53Z\n",
       "    geospatial_bounds:               POINT(-117.257 32.867)\n",
       "    geospatial_vertical_positive:    down\n",
       "    publisher_type:                  position\n",
       "    geospatial_vertical_units:       m\n",
       "    time_coverage_units:             seconds since 1970-01-01 00:00:00 UTC\n",
       "    time_coverage_duration:          P274DT3H56M17S\n",
       "    uuid:                            8abcc627-18a2-4d6e-8048-aa7fe8d6286e\n",
       "    time_coverage_end:               2019-10-02T03:56:32Z\n",
       "    date_modified:                   2019-10-02T04:00:16Z\n",
       "    date_issued:                     2019-10-02T04:00:16Z\n",
       "    time_coverage_start:             2019-01-01T00:00:15Z\n",
       "    date_metadata_modified:          2019-10-02T04:00:16Z\n",
       "    DODS.strlen:                     25\n",
       "    DODS.dimName:                    stationNameLength\n",
       "    DODS_EXTRA.Unlimited_Dimension:  time)"
      ]
     },
     "execution_count": 3,
     "metadata": {},
     "output_type": "execute_result"
    }
   ],
   "source": [
    "# Let's check what variables this dataset has:\n",
    "ds.keys()"
   ]
  },
  {
   "cell_type": "markdown",
   "metadata": {},
   "source": [
    "This time we're interested in pressure, so let's check the characteristics of this variables:"
   ]
  },
  {
   "cell_type": "code",
   "execution_count": 19,
   "metadata": {},
   "outputs": [
    {
     "name": "stdout",
     "output_type": "stream",
     "text": [
      "<xarray.DataArray 'pressure' (time: 96803)>\n",
      "array([3.578, 3.183, 3.333, ..., 3.153, 3.241, 3.14 ], dtype=float32)\n",
      "Coordinates:\n",
      "  * time     (time) object 2019-01-01 00:00:15 ... 2019-10-02 03:56:32\n",
      "    lat      float32 ...\n",
      "    lon      float32 ...\n",
      "    depth    float32 ...\n",
      "Attributes:\n",
      "    platform:       platform1\n",
      "    long_name:      sea water pressure\n",
      "    standard_name:  sea_water_pressure\n",
      "    instrument:     instrument1\n",
      "    units:          dbar\n",
      "    ncei_name:      PRESSURE - WATER\n",
      "    source:         insitu observations\n",
      "    cell_methods:   time: point\n",
      "    references:     http://sccoos.org/data/autoss/, http://sccoos.org/about/d...\n",
      "    grid_mapping:   crs\n",
      "    comment:        The following QC tests were done on pressure: Range Check...\n",
      "    valid_min:      0.0\n",
      "    valid_max:      20.0\n",
      "    data_max:       5.084\n",
      "    data_min:       1.658\n",
      "    _ChunkSizes:    1024\n"
     ]
    }
   ],
   "source": [
    "pressure = ds['pressure'].values\n",
    "print(ds['pressure'])"
   ]
  },
  {
   "cell_type": "markdown",
   "metadata": {},
   "source": [
    "We could plot a histogram using the `matplotlib` function `hist` which allows us to specify the argument `density`. Let's see how to get both histogram and pdf of the pressure using `matplotlib`:"
   ]
  },
  {
   "cell_type": "code",
   "execution_count": 5,
   "metadata": {},
   "outputs": [
    {
     "data": {
      "text/plain": [
       "Text(0.5, 1.0, 'PDF')"
      ]
     },
     "execution_count": 5,
     "metadata": {},
     "output_type": "execute_result"
    },
    {
     "data": {
      "image/png": "[encoded data removed]",
      "text/plain": [
       "<Figure size 1152x576 with 2 Axes>"
      ]
     },
     "metadata": {
      "needs_background": "light"
     },
     "output_type": "display_data"
    }
   ],
   "source": [
    "fig, [ax1, ax2] = plt.subplots(1, 2, figsize = (16, 8))\n",
    "hist = ax1.hist(ds['pressure'], bins=30, density=False)\n",
    "ax1.set_ylabel('Counts', fontsize=14)\n",
    "ax1.set_xlabel('Pressure [%s]'%ds['pressure'].units, fontsize=14) # using the metadata\n",
    "ax1.set_title('Histogram', fontsize=18)\n",
    "# Now, with density=True\n",
    "pdf  = ax2.hist(ds['pressure'], bins=30, density=True)\n",
    "ax2.set_ylabel('Probability density', fontsize=14)\n",
    "ax2.set_xlabel('Pressure [%s]'%ds['pressure'].units, fontsize=14)\n",
    "ax2.set_title('PDF', fontsize=18)"
   ]
  },
  {
   "cell_type": "markdown",
   "metadata": {},
   "source": [
    "Now, lets check if `density=True` is working properly. The function `hist` returns a tuple, where the first two elements are counts/pdf and bins."
   ]
  },
  {
   "cell_type": "code",
   "execution_count": 6,
   "metadata": {},
   "outputs": [
    {
     "name": "stdout",
     "output_type": "stream",
     "text": [
      "0.9999998990472336 is close enough to 1\n"
     ]
    }
   ],
   "source": [
    "values, bins, _ = pdf\n",
    "dbin = bins[1] - bins[0]\n",
    "print(values.sum()*dbin, 'is close enough to 1')"
   ]
  },
  {
   "cell_type": "markdown",
   "metadata": {},
   "source": [
    "You might want to have control over the bin width, so instead of passing the number of bins, you can pass a list representing the bin edges:"
   ]
  },
  {
   "cell_type": "code",
   "execution_count": 7,
   "metadata": {},
   "outputs": [],
   "source": [
    "dbin1 = 0.1\n",
    "bins1 = np.arange(ds['pressure'].min(), ds['pressure'].max(), dbin1).tolist()\n",
    "dbin2 = 0.01\n",
    "bins2 = np.arange(ds['pressure'].min(), ds['pressure'].max(), dbin2).tolist()"
   ]
  },
  {
   "cell_type": "code",
   "execution_count": 8,
   "metadata": {
    "scrolled": false
   },
   "outputs": [
    {
     "data": {
      "text/plain": [
       "Text(0.5, 1.0, 'PDF')"
      ]
     },
     "execution_count": 8,
     "metadata": {},
     "output_type": "execute_result"
    },
    {
     "data": {
      "image/png": "[encoded data removed]",
      "text/plain": [
       "<Figure size 1152x576 with 2 Axes>"
      ]
     },
     "metadata": {
      "needs_background": "light"
     },
     "output_type": "display_data"
    }
   ],
   "source": [
    "fig, [ax1, ax2] = plt.subplots(1, 2, figsize = (16, 8))\n",
    "pdf1 = ax1.hist(ds['pressure'], bins=bins1, density=True)\n",
    "ax1.set_ylabel('Probability density', fontsize=14)\n",
    "ax1.set_xlabel('Pressure [%s]'%ds['pressure'].units, fontsize=14) # using the metadata\n",
    "ax1.set_title('PDF', fontsize=18)\n",
    "# Now, with narrower bins\n",
    "pdf2  = ax2.hist(ds['pressure'], bins=bins2, density=True)\n",
    "ax2.set_ylabel('Probability density', fontsize=14)\n",
    "ax2.set_xlabel('Pressure [%s]'%ds['pressure'].units, fontsize=14)\n",
    "ax2.set_title('PDF', fontsize=18)"
   ]
  },
  {
   "cell_type": "markdown",
   "metadata": {},
   "source": [
    "My predecessor, Rob Pinkel, always told students that they couldn't use the ``hist`` function for this and should do a loop.  How do we do that?"
   ]
  },
  {
   "cell_type": "code",
   "execution_count": 11,
   "metadata": {},
   "outputs": [
    {
     "data": {
      "text/plain": [
       "Text(0, 0.5, 'counts')"
      ]
     },
     "execution_count": 11,
     "metadata": {},
     "output_type": "execute_result"
    },
    {
     "data": {
      "image/png": "[encoded data removed]",
      "text/plain": [
       "<Figure size 576x576 with 1 Axes>"
      ]
     },
     "metadata": {
      "needs_background": "light"
     },
     "output_type": "display_data"
    }
   ],
   "source": [
    "dbin = 0.1\n",
    "bin_min = 2\n",
    "bin_max = 5\n",
    "bins = np.arange(bin_min, bin_max, dbin)\n",
    "count = []\n",
    "for i in range(len(bins)):\n",
    "    ind = (pressure>bins[i] - dbin/2) & (pressure<=bins[i]+dbin/2)\n",
    "    count.append(ind.sum())\n",
    "count = np.array(count)\n",
    "\n",
    "plt.figure(figsize = (8,8))\n",
    "plt.plot(bins, count)\n",
    "plt.xlabel('Pressure [dbar]', fontsize=14)\n",
    "plt.ylabel('counts',  fontsize=14)"
   ]
  },
  {
   "cell_type": "markdown",
   "metadata": {},
   "source": [
    "Should we write a function to do that?"
   ]
  },
  {
   "cell_type": "code",
   "execution_count": 14,
   "metadata": {},
   "outputs": [],
   "source": [
    "def compute_histogram(variable, bin_max, bin_min, dbin, pdf=False):\n",
    "    \n",
    "    \"\"\" Computes 1D histogram or probability density for a given variable.\n",
    "        \n",
    "    Keyword arguments:\n",
    "    variable -- 1D array.\n",
    "    bin_max -- maximum value for bins\n",
    "    bin_min -- minimum value for bins\n",
    "    dbin -- bin size\n",
    "    pdf -- (default False)\n",
    "    \n",
    "    Returns:\n",
    "    bins -- histogram bins\n",
    "    counts -- either counts or probability density\n",
    "        \n",
    "    \"\"\"\n",
    "    bins = np.arange(bin_min, bin_max, dbin)\n",
    "    count = []\n",
    "    for i in range(len(bins)):\n",
    "        ind = (variable>bins[i] - dbin/2) & (variable<=bins[i]+dbin/2)\n",
    "        count.append(ind.sum())\n",
    "    count = np.array(count)\n",
    "    if pdf:\n",
    "        norm_hist = count/count.sum()/dbin\n",
    "        assert np.allclose(norm_hist.sum()*dbin, 1.0), \"PDF doesn't sum to 1\"\n",
    "    \n",
    "        return bins, norm_hist\n",
    "    else:\n",
    "        return bins, count    "
   ]
  },
  {
   "cell_type": "markdown",
   "metadata": {},
   "source": [
    "We like to think that geophysical variables are normally distributed,\n",
    "meaning that the distribution is:\n",
    "\n",
    "$$\\begin{equation}\n",
    "p(x) = \\frac{1}{\\sigma \\sqrt{2\\pi}} \\exp\\left(-\\frac{(x-\\mu)^2}{2\\sigma^2}\\right)\\hspace{3cm} (5)\n",
    "\\end{equation}$$\n",
    "\n",
    "where $\\mu$ is the mean and $\\sigma$ is the standard deviation.\n",
    "So we can add a Gaussian to our plot:"
   ]
  },
  {
   "cell_type": "code",
   "execution_count": 20,
   "metadata": {},
   "outputs": [
    {
     "data": {
      "text/plain": [
       "Text(0, 0.5, 'Probability density')"
      ]
     },
     "execution_count": 20,
     "metadata": {},
     "output_type": "execute_result"
    },
    {
     "data": {
      "image/png": "[encoded data removed]",
      "text/plain": [
       "<Figure size 576x576 with 1 Axes>"
      ]
     },
     "metadata": {
      "needs_background": "light"
     },
     "output_type": "display_data"
    }
   ],
   "source": [
    "bins, norm_hist = compute_histogram(variable=pressure, bin_max=pressure.max(),\n",
    "                                    bin_min=pressure.min(), dbin=0.1, pdf=True)\n",
    "\n",
    "sig = np.std(pressure)\n",
    "mu = np.mean(pressure)\n",
    "gaus = (1.0/sig/np.sqrt(2*np.pi)) * (np.exp(-(bins-mu)**2 / (2*sig**2)))\n",
    "\n",
    "plt.figure(figsize=(8, 8))\n",
    "plt.plot(bins, norm_hist, 'b', lw=2, label='Data')\n",
    "plt.plot(bins, gaus, 'k', lw=2, label='Gaussian')\n",
    "plt.legend(fontsize=12)\n",
    "plt.xlabel('Pressure [dbar]', fontsize=14)\n",
    "plt.ylabel('Probability density',  fontsize=14)"
   ]
  },
  {
   "cell_type": "markdown",
   "metadata": {},
   "source": [
    "We like the Gaussian, because it's easy to calculate, and it has well\n",
    "defined properties.  We know that 68\\% of measurements will be within\n",
    "$\\pm \\sigma$ of the mean, and 95\\% of measurements will be within $\\pm 2\\sigma$\n",
    "of the mean.\n",
    "\n",
    "We can turn this around to decide whether a measurement is\n",
    "an outlier.  If we expect to see a lot of values near the mean, and we find that\n",
    "we have a measurement that deviates from the mean by 5 $\\sigma$, then it's\n",
    "not terribly statistically likely.  (For a Gaussian, 99.99994\\% of observations\n",
    "should be within $\\pm 5\\sigma$ of the mean.)  Thus we might decide to throw\n",
    "out all outliers that differ from the mean by more than 3 or 4 or 5$\\sigma$.\n",
    "\n",
    "We can also use this framework to think about uncertainty.  If we measure\n",
    "one realization of an estimate of the mean, that will become our best estimate\n",
    "of the mean.  If our formal estimate of our a priori uncertainty is correct\n",
    "(and we might also call this $\\sigma$, but let's use $\\delta$ for now),\n",
    "then we expect that\n",
    "68\\% of the time, our single observation should be within $\\pm\\delta$ of the\n",
    "true value, and 95\\% of the time, our single observation should be wihtin\n",
    "$\\pm2\\delta$ of the true value.\n",
    "\n",
    "And really, we like the Gaussian, because the convolution of a Gaussian\n",
    "with another Gaussian is still a Gaussian, so we can manipulate the\n",
    "statistics easily.  But are data necessarily normally distributed? So this might lead you to think that all data are fairly Gaussian."
   ]
  },
  {
   "cell_type": "markdown",
   "metadata": {},
   "source": [
    "### Example pdfs of real data? Non-Gaussian cases.\n",
    "Now what if we plot chlorophyll?"
   ]
  },
  {
   "cell_type": "markdown",
   "metadata": {},
   "source": [
    "The quality control of the Chlorophyll measurements in this dataset is provided in a separate variable `chlorophyll_flagPrimary`. So let's check what is the meaning of this flag:"
   ]
  },
  {
   "cell_type": "code",
   "execution_count": 21,
   "metadata": {},
   "outputs": [
    {
     "data": {
      "text/plain": [
       "<xarray.DataArray 'chlorophyll_flagPrimary' (time: 96803)>\n",
       "array([4., 4., 4., ..., 1., 1., 1.], dtype=float32)\n",
       "Coordinates:\n",
       "  * time     (time) object 2019-01-01 00:00:15 ... 2019-10-02 03:56:32\n",
       "    lat      float32 ...\n",
       "    lon      float32 ...\n",
       "    depth    float32 ...\n",
       "Attributes:\n",
       "    long_name:      sea water chlorophyll, qc primary flag\n",
       "    standard_name:  mass_concentration_of_chlorophyll_a_in_sea_water status_flag\n",
       "    flag_meanings:  GOOD_DATA UNKNOWN SUSPECT BAD_DATA MISSING\n",
       "    flag_values:    [1 2 3 4 9]\n",
       "    comment:        Quality Control test are based on IOOS's Quality Control ...\n",
       "    source:         QC results\n",
       "    references:     https://github.com/ioos/qartod\n",
       "    _ChunkSizes:    4096"
      ]
     },
     "execution_count": 21,
     "metadata": {},
     "output_type": "execute_result"
    }
   ],
   "source": [
    "ds['chlorophyll_flagPrimary']"
   ]
  },
  {
   "cell_type": "markdown",
   "metadata": {},
   "source": [
    "So, it looks like the flag for good data is 1. Below we sellect only thw good values."
   ]
  },
  {
   "cell_type": "code",
   "execution_count": null,
   "metadata": {},
   "outputs": [],
   "source": [
    "good_chl = ds['chlorophyll'][ds['chlorophyll_flagPrimary']==1].values\n",
    "bins = np.linspace(good_chl.min(), good_chl.max(), 30)\n",
    "chl_mu = np.mean(good_chl)\n",
    "chl_sig = np.std(good_chl)\n",
    "chl_gaus = (1.0/chl_sig/np.sqrt(2*np.pi)) * (np.exp(-(bins-chl_mu)**2 / (2*chl_sig**2)))"
   ]
  },
  {
   "cell_type": "code",
   "execution_count": 218,
   "metadata": {},
   "outputs": [
    {
     "data": {
      "text/plain": [
       "<matplotlib.legend.Legend at 0x32ba49668>"
      ]
     },
     "execution_count": 218,
     "metadata": {},
     "output_type": "execute_result"
    },
    {
     "data": {
      "image/png": "[encoded data removed]",
      "text/plain": [
       "<Figure size 576x576 with 1 Axes>"
      ]
     },
     "metadata": {
      "needs_background": "light"
     },
     "output_type": "display_data"
    }
   ],
   "source": [
    "plt.figure(figsize=(8, 8))\n",
    "hist = plt.hist(good_chl, bins=bins, density=True, label = 'Observations')\n",
    "plt.plot(bins, chl_gaus, 'k', lw=2, label='Gaussian')\n",
    "plt.xlabel('Chlorophyll concentration  [$\\mu$ g/L]', fontsize=14)\n",
    "plt.ylabel('Probability density',  fontsize=14)\n",
    "plt.legend(fontsize=12)"
   ]
  },
  {
   "cell_type": "markdown",
   "metadata": {},
   "source": [
    "As illustrated above, chlorophyll concentrations are decidedly non-Gaussian.  (We usually\n",
    "refer to chlorophyll as being log-normally distributed, meaning that the\n",
    "log of the values might be Gaussian.)"
   ]
  },
  {
   "cell_type": "markdown",
   "metadata": {},
   "source": [
    "Ocean velocity data often have a double-exponential distribution, as do\n",
    "wind velocity data:\n",
    "\n",
    "$$\\begin{equation}\n",
    "p(x)=\\frac{1}{\\sigma\\sqrt{2}} \\exp{\\left[-\\frac{\\left|x\\right|\\sqrt{2}}{\\sigma} \\right]}. \\hspace{3cm} (6)\n",
    "\\end{equation}$$\n",
    "\n",
    "Sometimes we only measure wind speed, and that's necessarily positive.\n",
    "The Rayleigh distribution is sometimes a good representation of wind\n",
    "speed:  it is defined from the square root sum of two independent\n",
    "Gaussian components squared, $y=\\sqrt{x_1^2 + x_2^2}$.\n",
    "$$\\begin{equation}\n",
    "p(y)=\\frac{y}{\\sigma^2} \\exp{\\left[-\\frac{y^2}{2\\sigma^2} \\right]}.\\hspace{3cm} (7)\n",
    "\\end{equation}$$"
   ]
  },
  {
   "cell_type": "markdown",
   "metadata": {},
   "source": [
    "### Summing variables, error propagation, and the central limit theorem\n",
    "\n",
    "Given that so many pdfs can be non-Gaussian, why do we spend so much\n",
    "time talking about Gaussians?  There are two important reasons.\n",
    "\n",
    "1. As noted above, the Gaussian is mathematically tractable.\n",
    "2. Even though individual pdfs are non-Gaussian, if we sum enough variables, everything is Gaussian.  (This is the central limit theorem, which we'll get to next time.)\n",
    "\n",
    "\n",
    "Often the quantities we study represent a summation of multiple\n",
    "random variables.  For example, we're not interested in the instantaneous\n",
    "temperature but the average over an hour or a day.  Thus we consider\n",
    "\n",
    "$$\\begin{equation}\n",
    "x(k) = \\sum_{i=1}^{N} a_i x_i(k),\\hspace{3cm} (8)\n",
    "\\end{equation}$$\n",
    "\n",
    "following the terminology of Bendat and Piersol, where $a_i$ is a\n",
    "coefficient. The mean of $x$ is\n",
    "$$\\begin{equation}\n",
    "\\mu_x = E(x(k)) = E\\left[\\sum_{i=1}^{N} a_i x_i(k)\\right] = \\left[\\sum_{i=1}^{N} a_i E(x_i(k))\\right] =\n",
    "\\sum_{i=1}^{N} a_i \\mu_i. \\hspace{3cm} (9)\n",
    "\\end{equation}$$\n",
    "\n",
    "and\n",
    "\n",
    "$$\\begin{equation}\n",
    "\\sigma_x^2 = E\\left[(x(k)-\\mu_x)^2\\right] =\n",
    "=E\\left[\\sum_{i=1}^{N} a_i (x_i(k)-\\mu_i)\\right]^2\n",
    "= \\sum_{i=1}^{N} a_i^2 \\sigma_i^2. \\hspace{3cm} (10)\n",
    "\\end{equation}$$\n",
    "\n",
    "In doing this, we've carried out a little sleight of hand, by assuming\n",
    "that for a large ensemble (as the number of elements used to define our\n",
    "expectation value $E$ approaches $\\infty$) the correlation between\n",
    "$x_i$ and $x_j$ is zero so that the expectation value\n",
    "$E[(x_i(k)-\\mu_i)(x_j(k)-\\mu_j)] = 0$ for $i\\ne j$.\n",
    "\n",
    "This gives us some simple rules of thumb:\n",
    "\n",
    "#### *Standard error of the mean.*\n",
    "Suppose that $a_i$ is an averaging operator and is equal to $1/N$, and\n",
    "$\\sigma_i$ is the same for all $i$.  Then\n",
    "\n",
    "$$\\begin{equation}\n",
    "\\sigma_x^2 =  \\sum_{i=1}^{N} a_i^2 \\sigma_i^2 = \\frac{N\\sigma_i^2}{N^2} =\n",
    "\\frac{\\sigma_i^2}{N}.\\hspace{3cm} (11)\n",
    "\\end{equation}$$\n",
    "\n",
    "This means that the standard deviation of the mean, {\\it the standard error\n",
    "of the mean}, is $\\sigma/\\sqrt{N}$.\n",
    "\n",
    "As a footnote to this, the {\\it standard error of the variance} is\n",
    "$\\sigma^2\\sqrt{2/(N-1)}$.\n",
    "\n",
    "#### *Error Propagation*\n",
    "Our consideration of the summed variables\n",
    "gives us a rule for estimating uncertainties of computed quantities.  If\n",
    "we sum a variety of measures together, then the overall uncertainty\n",
    "will be determined by the square root of the sum of the squares:\n",
    "\\begin{equation}\n",
    "\\delta_y = \\sqrt{\\sum_{i=1}^{N} a_i^2 \\delta_i^2},\n",
    "\\end{equation}\n",
    "where here we're using $\\delta_i$ to represent the a priori uncertainties. \n",
    "\n",
    "What if we have to multiply quantities together?  Then we simply\n",
    "linearize about the value of interest. We'll do this properly next time."
   ]
  }
 ],
 "metadata": {
  "kernelspec": {
   "display_name": "Python 3",
   "language": "python",
   "name": "python3"
  },
  "language_info": {
   "codemirror_mode": {
    "name": "ipython",
    "version": 3
   },
   "file_extension": ".py",
   "mimetype": "text/x-python",
   "name": "python",
   "nbconvert_exporter": "python",
   "pygments_lexer": "ipython3",
   "version": "3.7.3"
  }
 },
 "nbformat": 4,
 "nbformat_minor": 2
}
