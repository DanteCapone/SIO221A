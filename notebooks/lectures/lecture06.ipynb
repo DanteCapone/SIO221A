{
 "cells": [
  {
   "cell_type": "markdown",
   "metadata": {},
   "source": [
    "# Analysis of Physical Oceanographic Data - SIO 221A\n",
    "### Python version of [Sarah Gille's](http://pordlabs.ucsd.edu/sgille/sioc221a/index.html) notes by:\n",
    "#### Bia Villas Bôas (avillasboas@ucsd.edu) & Gui Castelão (castelao@ucsd.edu)"
   ]
  },
  {
   "cell_type": "markdown",
   "metadata": {},
   "source": [
    "## Lecture 6"
   ]
  },
  {
   "cell_type": "markdown",
   "metadata": {},
   "source": [
    "#### *Recap*\n",
    "\n",
    "Last time we looked at the Fourier transform.  We considered cosine and\n",
    "sine transforms, derived coefficients ($a_q$ and $b_q$) for cosine and\n",
    "sine, and then showed that we could recombine these to make complex\n",
    "coefficients for $e^{i2\\pi qf_1t}$ and $e^{-i2\\pi qf_1t}$.\n",
    "We found these coefficients to be complex conjugates of each other.\n",
    "Since cosine/sine transformations and Fourier transforms using\n",
    "$e^{\\pm i2\\pi qf_1t}$ are closely related, we can express results of one\n",
    "in terms of the other.\n",
    "In other words, instead of computing $\\sum_{j=1}^N x_j \\cos(2\\pi f_j t)$ and\n",
    "$\\sum_{j=1}^N x_j \\sin(2 \\pi f_j t)$, we can instead find\n",
    "$\\sum_{j=1}^N x_j \\exp(i 2 \\pi f_j t)$ and then use the real and imaginary\n",
    "parts to represent the cosine and sine components."
   ]
  },
  {
   "cell_type": "markdown",
   "metadata": {},
   "source": [
    "#### *Fourier transform in continuous form*\n",
    "\n",
    "Bracewell's nice book on the Fourier transform refers to the data as $f(x)$ and\n",
    "its Fourier transform as $F(s)$, where $x$ could be interpreted as time,\n",
    "for example, and $s$ as frequency.  Here I've rewritten to roughly use\n",
    "Bendat and Piersol's notation.\n",
    "In continuous form, the Fourier transform of $x(t)$ is $X(\\omega)$ (where\n",
    "$\\omega=qf_1$), and the\n",
    "process can be inverted to recover $x(t)$.\n",
    "\\begin{eqnarray}\n",
    "X(\\omega) & = & \\int_{-\\infty}^{\\infty} x(t) e^{-i2\\pi t\\omega}\\, dt \\hspace{3cm} (1)\\\\\n",
    "x(t) & = & \\int_{-\\infty}^{\\infty} X(\\omega)  e^{i2\\pi t\\omega}\\, d\\omega \\hspace{2.8cm} (2)\n",
    "\\end{eqnarray}\n",
    "(following Bracewell).\n",
    "\n",
    "But there are lots of alternate definitions in the literature:\n",
    "\\begin{eqnarray}\n",
    "X(\\sigma) & = & \\int_{-\\infty}^{\\infty} x(t) e^{-it\\sigma}\\, dt \\hspace{3cm} (3)\\\\\n",
    "x(t) & = & \\frac{1}{2\\pi} \\int_{-\\infty}^{\\infty} X(\\sigma)  e^{it\\sigma}\\, d\\sigma \\hspace{2.2cm} (4)\n",
    "\\end{eqnarray}\n",
    "or\n",
    "\\begin{eqnarray}\n",
    "X(\\sigma) & = & \\frac{1}{\\sqrt{2\\pi}} \\int_{-\\infty}^{\\infty} x(t) e^{-it\\sigma}\\, dt \\hspace{2.1cm} (5) \\\\\n",
    "x(t) & = & \\frac{1}{\\sqrt{2\\pi}} \\int_{-\\infty}^{\\infty} X(\\sigma)  e^{it\\sigma}\\, d\\sigma \\hspace{2cm} (6)\n",
    "\\end{eqnarray}\n",
    "So we always have to be careful about our syntax.\n",
    "\n",
    "Given the vast array of notation, we're going to try very hard to stick to Bendat and Piersol's\n",
    "forms:\n",
    "\n",
    "\\begin{eqnarray}\n",
    "X(f) & = & \\int_{-\\infty}^{\\infty} x(t) e^{-i2\\pi f t}\\, dt \\hspace{2.1cm} (7)\\\\\n",
    "x(t) & = & \\int_{-\\infty}^{\\infty} X(f)  e^{i2\\pi ft}\\, df\\hspace{2cm} (8)\n",
    "\\end{eqnarray}\n",
    "\n",
    "\n",
    "The same questions about\n",
    "choices of notation apply in the discrete form that we consider when we\n",
    "analyze data.  And we can get ourselves really confused.  So we have to keep\n",
    "in mind one rule:  we don't get to create energy.  That means that we need\n",
    "to have the same total variance in our data set in the time domain as we\n",
    "have in the frequency domain.  This is Parseval's theorem, and we'll return\n",
    "to it.\n",
    "\n",
    "\n",
    "One of the glories of the Fourier transform is that we can take all of these\n",
    "projections and make them extremely efficient through the Fast Fourier\n",
    "Transform (FFT).  In principle, FFT's are most efficient if you\n",
    "compute them for records that are a power of 2 in length, so 64 or 128 or 256\n",
    "points for example.  But modern FFTs are fast even if your data set doesn't\n",
    "have $2^n$ elements. Moreover, a year doesn't have $2^n$ days, so trying to\n",
    "force a data record to conform to a length of $2^n$ can suppress some of the\n",
    "natural periodicity.\n",
    "\n",
    "Mathematically the Python definitions look like this:\n",
    "\\begin{equation}\n",
    "A_k = \\sum_{m=0}^{n-1} a_m \\exp \\left(-2\\pi i \\frac{m k}{n}\\right),\\ \\ k = 0,..., n-1 \\hspace{2.1cm} (9)\n",
    "\\end{equation}\n",
    "where frequency labels $k$ and data labels $m$ go from 0 to $N-1$.  Here\n",
    "capital letters are used to denote Fourier transformed variables.\n",
    "Python computes this using function ``fft`` from the ``numpy.fft`` library."
   ]
  },
  {
   "cell_type": "markdown",
   "metadata": {},
   "source": [
    "The inverse of the Fourier  transform is computed using the function ``ifft`` and is defined to be:"
   ]
  },
  {
   "cell_type": "markdown",
   "metadata": {},
   "source": [
    "\\begin{equation}\n",
    "a_k = \\frac{1}{n}\\sum_{k=0}^{n-1} A_k \\exp \\left(2\\pi i \\frac{m k}{n}\\right),\\ \\ m = 0, ..., n-1. \\hspace{2.1cm} (10)\n",
    "\\end{equation}"
   ]
  },
  {
   "cell_type": "markdown",
   "metadata": {},
   "source": [
    "In Python the Fourier transform and inverse Fourier transform become:\n",
    "\n",
    "`` f = numpy.fft.fft(x)``\n",
    "\n",
    "``x_new = numpy.fft.ifft(f)``\n",
    "\n",
    "To make Parseval's theorem work, the variance of our data has to equal the variance of the Fourier transform.  Thus we'll want to compare:"
   ]
  },
  {
   "cell_type": "markdown",
   "metadata": {},
   "source": [
    "``sum(x**2)``\n",
    "\n",
    "``sum(abs(f)**2)``\n",
    "\n",
    "``numpy.dot(f.T, f)``\n",
    "\n",
    "``sum(f*f.conj())``"
   ]
  },
  {
   "cell_type": "markdown",
   "metadata": {},
   "source": [
    "Let's try that on some fake data."
   ]
  },
  {
   "cell_type": "code",
   "execution_count": null,
   "metadata": {},
   "outputs": [],
   "source": [
    "%matplotlib inline\n",
    "import warnings \n",
    "warnings.filterwarnings('ignore')\n",
    "\n",
    "import numpy as np\n",
    "import matplotlib.pyplot as plt"
   ]
  },
  {
   "cell_type": "code",
   "execution_count": null,
   "metadata": {},
   "outputs": [],
   "source": [
    "N = 4000\n",
    "T = 10\n",
    "t = np.linspace(0, 10*T, N)\n",
    "x = 5*np.sin(2*np.pi*t/T) + (np.random.random(N) - 0.5)\n",
    "print('Mean = %.2f' %x.mean())"
   ]
  },
  {
   "cell_type": "code",
   "execution_count": null,
   "metadata": {},
   "outputs": [],
   "source": [
    "f = np.fft.fft(x)\n",
    "x_new = np.fft.ifft(f)"
   ]
  },
  {
   "cell_type": "code",
   "execution_count": null,
   "metadata": {},
   "outputs": [],
   "source": [
    "print('Sum of x^2 = %.2f' %sum(x**2))\n",
    "print('Sum(abs(f)**2) = %.2f' %sum(abs(f)**2))\n",
    "print('numpy.dot(f.T, f) = %.2f' %np.dot(f.T, f))\n",
    "print('sum(f*numpy.conj(f)) = %.2f' %sum(f*f.conj()))"
   ]
  },
  {
   "cell_type": "markdown",
   "metadata": {},
   "source": [
    "They don't quite agree, so we'll see that we should divide the Fourier transform by $N$, the number of data points."
   ]
  },
  {
   "cell_type": "markdown",
   "metadata": {},
   "source": [
    "#### *What do we gain by Fourier transforming our data?*\n",
    "\n",
    "We live life in the time domain, so it's sometimes hard to think about\n",
    "the world as seen in the frequency domain.\n",
    "While linear trends aren't well represented by the Fourier transform, the\n",
    "Fourier tranform is particularly effective for representing  sinusoidal\n",
    "oscillations.\n",
    "Solar radiation that warms the Earth varies\n",
    "on a 365.25 day cycle with the seasons, and on a 24 hour cycle, with the\n",
    "rising and setting of the sun.  Ocean tides vary at semidiurnal (12.4 hour)\n",
    "and diurnal frequencies (as well as being modulated on fortnightly\n",
    "and monthly intervals.)\n",
    "In fact\n",
    "Thus if you look at data from a tide gauge, you see oscillatory\n",
    "fluctuations at a variety of different frequencies, as shown in\n",
    "the slides.  If we solve for the tidal amplitudes, we\n",
    "find for example:\n",
    "\n",
    "| Symbol | Frequency (cpd)| Amplitude (cm)| Greenwich Epoch|\n",
    "|-----|-----|-----|-----|\n",
    "|O1|0.92953571|8.91|217|\n",
    "|P1|0.99726209|5.32|224|\n",
    "|K1|1.00273791|16.12|225|\n",
    "|M2|1.93227361|9.97|354|\n",
    "|S2|2.00000000|6.45|357|\n",
    "\n",
    "These complex Fourier coefficients might seem confusing, but\n",
    "they give us a lot of information about our data, allowing us, for\n",
    "example to tell whether there is more energy at frequency $\\sigma_j$\n",
    "compared with frequency $\\sigma_l$.  The Fourier coefficients are complex\n",
    "so this comparison might seem confusing, but we'll just examine the\n",
    "squared magnitudes of the coefficients:  $|a_j|^2$.\n",
    "\n",
    "Of course, if we knew the frequency exactly, we could just\n",
    "do a least-squares fit, but often we aren't exactly sure of the frequencies\n",
    "in question---there might be energy spread over a broad range of frequencies,\n",
    "and the Fourier tranform provides us with a way to examine our data in terms\n",
    "of oscillatory signals.\n"
   ]
  },
  {
   "cell_type": "markdown",
   "metadata": {},
   "source": [
    "#### Three great traits of the Fourier transform\n",
    "\n",
    "We've talked about the effectiveness of the Fourier transform for\n",
    "identifying frequencies that are particularly energetic\n",
    "without having to know a priori what frequencies might have resonant peaks, and\n",
    "we've noted that the Fourier transform is useful for evaluating the size of\n",
    "one peak relative to another.\n",
    "\n",
    "##### 1. *Derivatives in time become multiplication in the frequency domain.*\n",
    "\n",
    "Fourier coefficients have some additional mathematical power.  For example,suppose I want to take the time derivative of my data.  If I start with\n",
    "\n",
    "$$\\begin{equation}\n",
    "A(t) = \\sum_{n=-\\infty}^\\infty a_n e^{-i2\\pi f_n t}  \\hspace{2.1cm} (11)\n",
    "\\end{equation}$$\n",
    "\n",
    "then\n",
    "$$\\begin{equation}\n",
    "\\frac{\\partial A(t)}{\\partial t} = \\sum_{n=-\\infty}^\\infty a_n \\frac{\\partial e^{-i2\\pi f_n t}}{\\partial t} = \\sum_{n=-\\infty}^\\infty -i2\\pi f_n a_n e^{-i2\\pi f_n t}  \\hspace{2.1cm} (12)\n",
    "\\end{equation}$$\n",
    "\n",
    "So the first derivative become a multiplication by frequency.\n",
    "Higher derivatives are similarly simple\n",
    "\n",
    "$$\\begin{equation}\n",
    "\\frac{\\partial^q A(t)}{\\partial t^q} = \\sum_{n=-\\infty}^\\infty (-i2\\pi f_n)^q a_n e^{-i2\\pi f_n t}.\n",
    " \\hspace{2.1cm} (13)\n",
    "\\end{equation}$$\n",
    "\n",
    "Integration can be represented as a division operation:\n",
    "\n",
    "$$\\begin{equation}\n",
    "\\int{A(t)}\\, dt = \\sum_{n=-\\infty}^\\infty (i2\\pi f_n)^{-1} a_n e^{i2\\pi f_n t} \\hspace{2.1cm} (14)\n",
    "\\end{equation}$$\n",
    "\n",
    "though we'll run into a bit of trouble if $f_0\\ne 0$, that is if the record\n",
    "has a non-zero mean.  That can mean that we might want to remove the mean\n",
    "before we start doing anything more complicated.\n",
    "\n",
    "In class we illustrated this by looking at the time series of the\n",
    "Southern Annular Mode from http://www.nerc-bas.ac.uk/icd/gjma/sam.html I had done a bit of pre-editing of the ASCII data file to remove the header and make it a full matrix.  Then we did the following"
   ]
  },
  {
   "cell_type": "code",
   "execution_count": null,
   "metadata": {},
   "outputs": [],
   "source": [
    "import pandas as pd"
   ]
  },
  {
   "cell_type": "code",
   "execution_count": null,
   "metadata": {},
   "outputs": [],
   "source": [
    "path = 'http://www.nerc-bas.ac.uk/public/icd/gjma/newsam.1957.2007.txt'\n",
    "df = pd.read_csv(path, header=[0], skiprows=0, sep='\\s+')"
   ]
  },
  {
   "cell_type": "code",
   "execution_count": null,
   "metadata": {},
   "outputs": [],
   "source": [
    "df.head()"
   ]
  },
  {
   "cell_type": "code",
   "execution_count": null,
   "metadata": {},
   "outputs": [],
   "source": [
    "df.tail()"
   ]
  },
  {
   "cell_type": "markdown",
   "metadata": {},
   "source": [
    "We want a continuous timeseries, so let's stack all years together:"
   ]
  },
  {
   "cell_type": "code",
   "execution_count": null,
   "metadata": {},
   "outputs": [],
   "source": [
    "SAM = []\n",
    "for year in df.index.values:\n",
    "    SAM.extend(df.loc[year].values.tolist())\n",
    "SAM = np.array(SAM[:-3]) # We don't wanna grab the last three values\n",
    "nt = len(SAM)"
   ]
  },
  {
   "cell_type": "code",
   "execution_count": null,
   "metadata": {},
   "outputs": [],
   "source": [
    "fft_data = np.fft.fft(SAM) # FFT of the data\n",
    "fft_ddata = np.fft.fft(np.diff(SAM)) # FFT of the first derivative of the date"
   ]
  },
  {
   "cell_type": "markdown",
   "metadata": {},
   "source": [
    "Here we are plotting the squared amplitude of the fft for both the data and its derivative. Note the symmetry, since we haven't truncated at the Nyquist frequency."
   ]
  },
  {
   "cell_type": "code",
   "execution_count": null,
   "metadata": {},
   "outputs": [],
   "source": [
    "plt.figure(figsize=(10, 8))\n",
    "plt.semilogy(range(nt), abs(fft_data)**2, 'b', lw=1, label='squared fft of data')\n",
    "plt.semilogy(range(nt-1), abs(fft_ddata)**2, 'r', lw=1, label='squared fft of data derivative')\n",
    "plt.semilogy(range(int(nt/2)),  abs(fft_ddata[:int(nt/2)])**2*np.arange(int(nt/2))**2/nt/25,\n",
    "             'm', label='frequency squared times squared fft of data')\n",
    "plt.legend(fontsize=16)"
   ]
  },
  {
   "cell_type": "markdown",
   "metadata": {},
   "source": [
    "Here we've done this is the sloppiest way possible, but it still gives us a demonstration that the fft of the first derivative has the same spectral structure as the fft multiplied by frequency."
   ]
  },
  {
   "cell_type": "markdown",
   "metadata": {},
   "source": [
    "##### 2. *Fourier transforms simplify convolution.*\n",
    "\n",
    "Suppose you plot some noisy data---the data features crazy amplitude swings,\n",
    "and no one can make any sense of it, but you think that hiding behind\n",
    "all this noise, there might be a slowly varying signal.  You might be told,\n",
    "just do a running mean to smooth it out.   That running mean is a convolution.\n",
    "\n",
    "Convolution plays an important role in thinking about the Fourier\n",
    "transform, so we need to spend a little time on the concept.\n",
    "Here's the basic convolution integral:\n",
    "\n",
    "$$\\begin{equation}\n",
    "y(t) = \\int_{-\\infty}^{\\infty} h(\\tau) x(t-\\tau) d\\tau.  \\hspace{2.1cm} (16)\n",
    "\\end{equation}$$\n",
    "\n",
    "You can think of $x$ as the data, and $h$ as a filtering operator (such as\n",
    "a ``boxcar`` filter, or a triangle filter, or a roughly Gaussian-shaped window,\n",
    "or anything else that suits you."
   ]
  },
  {
   "cell_type": "markdown",
   "metadata": {},
   "source": [
    "In ``Python`` you can do this as:"
   ]
  },
  {
   "cell_type": "code",
   "execution_count": null,
   "metadata": {},
   "outputs": [],
   "source": [
    "from scipy import signal\n",
    "nw = 12\n",
    "y1 = np.convolve(SAM, signal.boxcar(nw)/nw)"
   ]
  },
  {
   "cell_type": "markdown",
   "metadata": {},
   "source": [
    "which produces the same results as:"
   ]
  },
  {
   "cell_type": "code",
   "execution_count": null,
   "metadata": {},
   "outputs": [],
   "source": [
    "y2 = signal.lfilter(np.ones(nw)/nw, 1, SAM)"
   ]
  },
  {
   "cell_type": "code",
   "execution_count": null,
   "metadata": {},
   "outputs": [],
   "source": [
    "plt.figure(figsize=(12, 6))\n",
    "plt.plot(SAM, '-', lw=0.5, label='Raw data')\n",
    "plt.plot(y2, '.-', lw=0.5, label='filter')\n",
    "plt.plot(y1, '-', label='convolve')\n",
    "plt.legend(fontsize=16)"
   ]
  },
  {
   "cell_type": "markdown",
   "metadata": {},
   "source": [
    "Formally the notation for a convolution of two records $h$ and $x$ is written\n",
    "\n",
    "$$\\begin{equation}\n",
    "h* x = \\int_{-\\infty}^\\infty h(\\tau)x(t - \\tau) d\\tau. \\hspace{2.1cm} (16)\n",
    "\\end{equation}$$\n",
    "\n",
    "What happens if we Fourier transform this?\n",
    "\n",
    "$$\\begin{eqnarray}\n",
    "\\mathcal{F}(h\\ast x) & = &\\int_{-\\infty}^{\\infty}\\left[\n",
    "\\int_{-\\infty}^\\infty h(\\tau)x(t - \\tau) d\\tau\\right]e^{-i t2\\pi f}\\, dt  \\hspace{2.1cm} (17)\\\\\n",
    " & = & \\int_{-\\infty}^{\\infty}h(\\tau) \\int_{-\\infty}^\\infty \\left[x(t - \\tau)e^{-i t2\\pi f}\\, dt\\right] d\\tau  \\hspace{2.1cm} (18)\\\\\n",
    " & = & \\int_{-\\infty}^{\\infty}h(\\tau)e^{-i\\tau 2\\pi f}\\mathcal{F}(x(f))\\, d\\tau  \\hspace{2.1cm} (19)\\\\\n",
    " & = & \\mathcal{F}(h)\\mathcal{F}(x)  \\hspace{2.1cm} (20)\n",
    "\\end{eqnarray}$$\n",
    "\n",
    "where here I've represented the Fourier transform with a script $\\mathcal{F}$.\n",
    "\n",
    "This has profound consequences.  It means that anything that required a\n",
    "convolution in the time domain I can handle trivially in the Fourier\n",
    "domain.  Suppose I want to filter my data.  If I don't like the hassle\n",
    "of convolving, I can just Fourier transform, multiply by the Fourier transform\n",
    "of my filter, and inverse Fourier transform.  This will prove to be\n",
    "amazingly powerful."
   ]
  },
  {
   "cell_type": "markdown",
   "metadata": {},
   "source": [
    "3. *Parseval's theorem:  Total variance in the time domain equals total variance in the frequency domain*\n",
    "\n",
    "The third trait of the Fourier transform is that it conserves energy\n",
    "(or variance).  Formally, we refer to this as Parseval's theorem, and\n",
    "we'll take a closer look later."
   ]
  }
 ],
 "metadata": {
  "kernelspec": {
   "display_name": "Python 3",
   "language": "python",
   "name": "python3"
  },
  "language_info": {
   "codemirror_mode": {
    "name": "ipython",
    "version": 3
   },
   "file_extension": ".py",
   "mimetype": "text/x-python",
   "name": "python",
   "nbconvert_exporter": "python",
   "pygments_lexer": "ipython3",
   "version": "3.7.3"
  }
 },
 "nbformat": 4,
 "nbformat_minor": 2
}
