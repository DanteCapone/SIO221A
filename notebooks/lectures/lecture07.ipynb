{
 "cells": [
  {
   "cell_type": "markdown",
   "metadata": {},
   "source": [
    "# Analysis of Physical Oceanographic Data - SIO 221A\n",
    "### Python version of [Sarah Gille's](http://pordlabs.ucsd.edu/sgille/sioc221a/index.html) notes by:\n",
    "#### Bia Villas Bôas (avillasboas@ucsd.edu) & Gui Castelão (castelao@ucsd.edu)"
   ]
  },
  {
   "cell_type": "markdown",
   "metadata": {},
   "source": [
    "## Lecture 7"
   ]
  },
  {
   "cell_type": "markdown",
   "metadata": {},
   "source": [
    "*Reading:  Bendat and Piersol, Ch. 8.5.4*"
   ]
  },
  {
   "cell_type": "markdown",
   "metadata": {},
   "source": [
    "#### Recap\n",
    "\n",
    "Last time we looked at the Fourier transform, which lets us re-represent data in the time (or space) domain in terms of coefficients of sines and cosines. We looked at notation, and we talked about 3 really key concepts for Fourier transforms:\n",
    "\n",
    "1. First derivatives in the time domain (or the space domain) can be represented in the frequency (or wavenumber) domain by simple multiplication (e.g. by $i2\\pi f$).\n",
    "\n",
    "2. Convolution, which is what we do when we filter data, can be carried out in the frequency (or wavenumber) domain through simple multiplication. The convolution can be written:\n",
    "\n",
    "$$\\begin{equation}\n",
    "x*y (\\tau) = \\int_{-\\infty}^\\infty x(t)y(\\tau-t)\\, dt, \\hspace{3cm} (1)\n",
    "\\end{equation}$$\n",
    "\n",
    "and its Fourier transform is:\n",
    "\n",
    "$$\\begin{equation}\n",
    "X(f)Y(f)=\\int_{-\\infty}^\\infty x*y e^{-i2\\pi f t}\\, dt.\\hspace{3cm} (2)\n",
    "\\end{equation}$$\n",
    "\n",
    "3. Parseval's theorem:  Total variance in the time domain equals total variance in the frequency domain\n",
    "\n",
    "$$\\begin{equation}\n",
    "\\int_{-\\infty}^{\\infty} x^2(t) dt  = \\int_{-\\infty}^\\infty  |\\hat{x}(f)|^2\\, df.\\hspace{3cm} (3)\n",
    "\\end{equation}$$"
   ]
  },
  {
   "cell_type": "markdown",
   "metadata": {},
   "source": [
    "#### More on the formalism of the Fourier transform\n",
    "\n",
    "Now we can use this to verify that our Fourier coefficients are consistent.  If\n",
    "I have a data set $x(t)$ that can be expressed as\n",
    "\n",
    "$$\\begin{equation}\n",
    "x(t) = \\sum_{n=-\\infty}^\\infty a_n \\exp(i2\\pi f_n t) \\hspace{3cm} (4)\n",
    "\\end{equation}$$\n",
    "\n",
    "and\n",
    "\n",
    "$$\\begin{equation}\n",
    "a_m = \\frac{1}{T}\\int_{-T/2}^{T/2} x(t) \\exp(-i2\\pi f_m t)\\, dt \\hspace{3cm} (5)\n",
    "\\end{equation}$$\n",
    "\n",
    "then let's check that our coefficients work out.\n",
    "We can substitute in $x(t)$ to obtain\n",
    "\n",
    "$$\\begin{eqnarray}\n",
    "a_m & = & \\frac{1}{T}\\int_{-T/2}^{T/2}  \\sum_{n=-\\infty}^\\infty a_n \\exp(i2\\pi f_n t) \\exp(-i2\\pi f_m t)\\, dt \\hspace{2.2cm} (6)\\\\\n",
    " & = &  \\frac{1}{T}\\int_{-T/2}^{T/2}  \\sum_{n=-\\infty}^\\infty a_n  \\exp(i2\\pi (f_n-f_m) t)\\, dt \\hspace{3.3cm} (7)\\\\\n",
    " & = &  \\sum_{n=-\\infty}^\\infty \\frac{a_n}{T}\\int_{-T/2}^{T/2}  \\sum_{n=-\\infty}^\\infty \\exp(i(f_n-f_m) t)\\, dt.\\hspace{3cm} (8)\n",
    "\\end{eqnarray}$$\n",
    "\n",
    "When $n=m$, the integral goes to $T$, and the summed expression becomes $a_n$. When $n\\ne m$, we're dealing with orthogonal cosines and sines, and the integral goes to zero.  Thus the net result is that\n",
    "\n",
    "$$\\begin{eqnarray}\n",
    "a_m & = & \\sum_{n=-\\infty}^\\infty a_n\\delta_{nm}\\hspace{3cm} (9) \\\\\n",
    " & = & a_m \\hspace{4.5cm} (10)\n",
    "\\end{eqnarray}$$\n",
    "\n",
    "where $\\delta_{nm}$ is called the Kronecker delta function, with $\\delta_{nm}=1$ if\n",
    "$n=m$ and $\\delta_{nm}=0$ otherwise.  (Formally in continuous form the $\\delta$\n",
    "function can\n",
    "be thought of as a\n",
    "distribution, like a pdf, that has shrunk to be infinitely high and infinitesimally\n",
    "narrow, so that the area under the distribution is exactly 1.)"
   ]
  },
  {
   "cell_type": "markdown",
   "metadata": {},
   "source": [
    "#### Parseval's theorem:  Total variance in the time domain equals total variance in the frequency domain\n",
    "\n",
    "Parsval's  theorem provides a critical link between total energy in the\n",
    "time domain and total energy in the Fourier transform domain.  To think about this, let's start by imagining computing the convolution of a data set with itself.\n",
    "\n",
    "On Friday, I mentioned the lagged covariance.  Let's start with the convolution of a data record with itself:\n",
    "\n",
    "$$\\begin{equation}\n",
    "y(t) = \\int_{-\\infty}^{\\infty} x(\\tau) x(t-\\tau) d\\tau.\\hspace{3cm} (11)\n",
    "\\end{equation}$$\n",
    "\n",
    "What happens if I convolve my data ($x(t)$) with the time reversal of\n",
    "itself ($x(-t)$)?\n",
    "\n",
    "$$\\begin{equation}\n",
    "y(t) = \\int_{-\\infty}^{\\infty} x(\\tau) x(t+\\tau) d\\tau.\\hspace{3cm} (12)\n",
    "\\end{equation}$$\n",
    "\n",
    "More conventionally we might write:\n",
    "$$\\begin{equation}\n",
    "y(\\Delta t) = \\int_{-\\infty}^{\\infty} x(t) x(\\Delta t+t) dt.\\hspace{2.5cm} (13)\n",
    "\\end{equation}$$\n",
    "\n",
    "So we're looking at the data multiplied by itself for a time lag $\\Delta t$. At zero lag, this is the variance, and as we vary $\\Delta t$ we're looking at the lagged covariance for different time lags.\n",
    "\n",
    "What if we Fourier transform this?  It will be analogous to the Fourier\n",
    "transform of the  convolution that we just calculated.  To examine\n",
    "this we'll just think about the product of two variables, $x_1$ and $x_2$. We can rewrite the product, substituting the inverse Fourier transform of the Fourier transform of $x_2(t)$:\n",
    "\n",
    "$$\\begin{equation}\n",
    "x_1(t) x_2(t)  = x_1(t)\\int_{-\\infty}^{\\infty}{X_2}(f)e^{i 2\\pi f t}\\, df\n",
    "\\end{equation} \\hspace{2.5cm} (14)$$\n",
    "\n",
    "so we can integrate this in time:\n",
    "\n",
    "$$\\begin{eqnarray}\n",
    "\\int_{-\\infty}^{\\infty} x_1(t) x_2(t)dt & = &\\int_{-\\infty}^\\infty\n",
    "\\left[x_1(t)\\int_{-\\infty}^{\\infty}{X_2}(f)e^{i 2\\pi f t}\\, df\\right]\\, dt \\hspace{2.5cm} (15)\\\\\n",
    " & = & \\int_{-\\infty}^{\\infty}{X_2}(f)\\left[\\int_{-\\infty}^{\\infty}\n",
    "x_1(t)e^{i 2\\pi f t}dt\\right]df \\hspace{2.5cm} (16)\\\\\n",
    "& = & \\int_{-\\infty}^{\\infty}{X_1}^*(f){X_2}(f)\\, df.\\hspace{2.5cm} (17)\n",
    "\\end{eqnarray}$$\n",
    "\n",
    "(My edition of Bendat and Piersol has a typo in this derivation, which appears\n",
    "just prior to equation 5.83, and this has caused no end of confusion.\n",
    "Here we use the complex conjugate of the Fourier transform of $x_1$, because\n",
    "we computed the Fourier transform with $e^{+i2\\pi ft}$ instead of the\n",
    "standard $e^{-i2\\pi ft}$.\n",
    "\n",
    "Put succinctly, if $x_1=x_2$:\n",
    "\n",
    "$$\\begin{equation}\n",
    "\\int_{-\\infty}^{\\infty} x^2(t) dt  = \\int_{-\\infty}^\\infty  |{X}(f)|^2\\, df \\hspace{2.5cm} (18)\n",
    "\\end{equation}$$\n",
    "\n",
    "This is Parseval's relationship.\n",
    "\n",
    "It's worth noting that if we worked with $\\sigma=2\\pi f$ rather than $f$, we'd have to\n",
    "normalize by $2\\pi$:\n",
    "\\begin{equation}\n",
    "\\int_{-\\infty}^{\\infty} x^2(t) dt  = \\frac{1}{2\\pi} \\int_{-\\infty}^\\infty  |X(\\sigma)|^2\\, d\\sigma \\hspace{2.5cm} (19)\n",
    "\\end{equation}\n",
    "\n",
    "\n",
    "In thinking about the time domain vs the frequency domain, one thing to\n",
    "keep in mind is the distinction between integrating over all time (on\n",
    "the left in the above equation) and integrating over all space (on the right).\n",
    "This implies that we're going to need to keep track of our frequency information carefully.  In essence the Fourier coefficients in $X$ (e.g. $|a_m|^2$) do not\n",
    "have the same units as the time domain values in $x^2$,\n",
    "because $x$ is integrated in time and $|a_m|$ is integrated in frequency.\n",
    "If the total integral of $x^2$ is equal to the total integral of\n",
    "$|X|^2$, then we're going to need to adjust by factors\n",
    "of $\\delta f$, and this will influence how we label our axes."
   ]
  },
  {
   "cell_type": "markdown",
   "metadata": {},
   "source": [
    "*Red, white, and blue spectra*\n",
    "\n",
    "Now let's look at a few spectra.  We\n",
    "use words associated with light to talk about spectra.  Red colors have\n",
    "long wavelengths (e.g. infrared), while blues and purples have\n",
    "short wavelengths (e.g. ultraviolet).  If a spectrum is dominated by\n",
    "low frequencies or long wavelengths, we refer to it as \"red\".  If it is\n",
    "dominated by short wavelengths or high frequencies, is is \"blue\".  If it has nearly the same energy levels at all frequencies or wavelengths,\n",
    "then it is \"white\", like the white broad-spectrum lights that we use\n",
    "for electric lighting.\n",
    "\n",
    "*Computing spectra*\n",
    "\n",
    "We've covered a lot of territory---we can Fourier transform with an fft,\n",
    "we know some of the properties of the Fourier transform, we've looked at Parseval's theorem.\n",
    "Now we need to stop beating around the bush and produce some spectra of our own.\n",
    "\n",
    "How do we take our data and produce a meaningful measure of the power\n",
    "per unit frequency?  Here's a basic approach:\n",
    "\n",
    "1. First, we know we're going to need to Fourier transform our data, and plot the squared amplitudes.  We'll only need to analyze the first $N/2+1$ of the Fourier coefficients, and we'll look at the amplitudes of these values.  (The second half of the Fourier coefficients are complex conjugates of the first half of the record and correspond to negative frequencies.)   The frequencies corresponding to the first $N/2+1$ coefficients will run from 0 cycles per $N$ points to $N/2$ cycles per $N$ points. So a first step is to compute:\n",
    "\n",
    "``a = numpy.fft.fft(data)``\n",
    "\n",
    "``N = len(data)``\n",
    "\n",
    "``amp = abs(a[:N/2+1])**2``, for even N\n",
    "\n",
    "``amp = abs(a[:(N+1)/2])**2``,  for odd N\n",
    "\n",
    "2. Second, since we're only taking half the record, we've thrown out half the energy in the original data (except at frequency 0), so we'll need to put that back in.\n",
    "\n",
    "``amp[1:-2] = 2*amp[1:-2]``, for even N\n",
    "\n",
    "``amp[1:] = 2*amp[1:]``, for odd N\n",
    "\n",
    "3. Having gotten this far, we'd better check that Parseval's theorem is working for us.  We'll need to see that the energy in the initial record matches the energy in the Fourier transform. If we don't worry about units, then in ``Python`` we just need to divide by $N^2$ to make our normalization work.\n",
    "\n",
    "``amp = amp/N**2``\n",
    "\n",
    "If we want to make this make sense for the temporal and spatial sampling\n",
    "of our observations we might need to scale our results to reflect real\n",
    "time and frequency units.  (Fortunately multiplicative scalings won't\n",
    "influence the shape of our spectra, so we can always delay sorting out\n",
    "the details.)"
   ]
  },
  {
   "cell_type": "markdown",
   "metadata": {},
   "source": [
    "Now let's teste this on some fake data"
   ]
  },
  {
   "cell_type": "code",
   "execution_count": null,
   "metadata": {},
   "outputs": [],
   "source": [
    "%matplotlib inline\n",
    "\n",
    "import numpy as np\n",
    "import matplotlib.pyplot as plt"
   ]
  },
  {
   "cell_type": "code",
   "execution_count": null,
   "metadata": {},
   "outputs": [],
   "source": [
    "# Let's create some fake data\n",
    "nt = 365*24 # the record will have nt points\n",
    "t = np.linspace(0, nt, nt) # this will be our time array\n",
    "dt = t[1] - t[0]\n",
    "T1 = 24 #  Period of the first signal\n",
    "T2 = 24*30 # Period of the second signal\n",
    "data = 0.5*np.sin(2*np.pi*t/T1) + 5*np.sin(2*np.pi*t/T2) + 0.05*(np.random.random(nt)-0.5)"
   ]
  },
  {
   "cell_type": "code",
   "execution_count": null,
   "metadata": {},
   "outputs": [],
   "source": [
    "plt.figure(figsize=(12,6))\n",
    "plt.plot(t, data)"
   ]
  },
  {
   "cell_type": "markdown",
   "metadata": {},
   "source": [
    "Now, our recipe is different depending on whether N is even or odd. So let's write a function to take that into account."
   ]
  },
  {
   "cell_type": "code",
   "execution_count": null,
   "metadata": {},
   "outputs": [],
   "source": [
    "def fft_1D(data, dt):\n",
    "    \n",
    "    data_fft = np.fft.fft(data)\n",
    "    N = len(data)\n",
    "    freq = np.fft.fftfreq(N, dt)\n",
    "    if N%2==0:\n",
    "        amp = abs(data_fft[:int(N/2)])**2\n",
    "        amp[1:-2] = 2*amp[1:-2]\n",
    "        freq = freq[:int(N/2)]\n",
    "    else:\n",
    "        amp = abs(data_fft[:int((N+1)/2)])**2\n",
    "        amp[1:] = 2*amp[1:]\n",
    "        freq = freq[:int((N+1)/2)]\n",
    "    return freq, amp/N**2"
   ]
  },
  {
   "cell_type": "code",
   "execution_count": null,
   "metadata": {},
   "outputs": [],
   "source": [
    "freq, amp = fft_1D(data, dt)\n",
    "print(\"Variance of the data=\", data.var())\n",
    "print(\"Sum of squared amplitudes=\", amp.sum())"
   ]
  },
  {
   "cell_type": "code",
   "execution_count": null,
   "metadata": {},
   "outputs": [],
   "source": [
    "plt.figure(figsize=(8,8))\n",
    "plt.loglog(freq, amp)\n",
    "plt.axvline(x=1/T1, color='k', ls='dotted')\n",
    "plt.axvline(x=1/T2, color='k',  ls='dotted')\n",
    "plt.ylabel('Power Spectrum')\n",
    "plt.xlabel('Frequency [cph]')"
   ]
  }
 ],
 "metadata": {
  "kernelspec": {
   "display_name": "Python 3",
   "language": "python",
   "name": "python3"
  },
  "language_info": {
   "codemirror_mode": {
    "name": "ipython",
    "version": 3
   },
   "file_extension": ".py",
   "mimetype": "text/x-python",
   "name": "python",
   "nbconvert_exporter": "python",
   "pygments_lexer": "ipython3",
   "version": "3.7.3"
  }
 },
 "nbformat": 4,
 "nbformat_minor": 2
}
